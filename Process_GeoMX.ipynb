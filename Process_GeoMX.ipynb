{
  "nbformat": 4,
  "nbformat_minor": 0,
  "metadata": {
    "colab": {
      "provenance": [],
      "authorship_tag": "ABX9TyOI2RcYlEzNMMYTWCzL+S4o",
      "include_colab_link": true
    },
    "kernelspec": {
      "name": "python3",
      "display_name": "Python 3"
    },
    "language_info": {
      "name": "python"
    }
  },
  "cells": [
    {
      "cell_type": "markdown",
      "metadata": {
        "id": "view-in-github",
        "colab_type": "text"
      },
      "source": [
        "<a href=\"https://colab.research.google.com/github/dpshepherd/GeoMXprocessing/blob/main/Process_GeoMX.ipynb\" target=\"_parent\"><img src=\"https://colab.research.google.com/assets/colab-badge.svg\" alt=\"Open In Colab\"/></a>"
      ]
    },
    {
      "cell_type": "markdown",
      "source": [
        "### Install dependencies"
      ],
      "metadata": {
        "id": "R_hQGCDe_0Eg"
      }
    },
    {
      "cell_type": "code",
      "execution_count": 5,
      "metadata": {
        "colab": {
          "base_uri": "https://localhost:8080/"
        },
        "id": "ir0NuBlM9hN6",
        "outputId": "9e0d54e2-418b-4958-c08d-7930e9832058"
      },
      "outputs": [
        {
          "output_type": "stream",
          "name": "stdout",
          "text": [
            "Requirement already satisfied: ome-types in /usr/local/lib/python3.10/dist-packages (0.4.2)\n",
            "Requirement already satisfied: tifffile in /usr/local/lib/python3.10/dist-packages (2023.9.26)\n",
            "Collecting zarr\n",
            "  Using cached zarr-2.16.1-py3-none-any.whl (206 kB)\n",
            "Requirement already satisfied: pathlib in /usr/local/lib/python3.10/dist-packages (1.0.1)\n",
            "Requirement already satisfied: numpy in /usr/local/lib/python3.10/dist-packages (1.23.5)\n",
            "Requirement already satisfied: scikit-image in /usr/local/lib/python3.10/dist-packages (0.19.3)\n",
            "Requirement already satisfied: tqdm in /usr/local/lib/python3.10/dist-packages (4.66.1)\n",
            "Requirement already satisfied: pydantic>=1.9.0 in /usr/local/lib/python3.10/dist-packages (from ome-types) (1.10.13)\n",
            "Requirement already satisfied: xsdata>=23.5 in /usr/local/lib/python3.10/dist-packages (from ome-types) (23.8)\n",
            "Collecting asciitree (from zarr)\n",
            "  Downloading asciitree-0.3.3.tar.gz (4.0 kB)\n",
            "  Preparing metadata (setup.py) ... \u001b[?25l\u001b[?25hdone\n",
            "Collecting fasteners (from zarr)\n",
            "  Downloading fasteners-0.19-py3-none-any.whl (18 kB)\n",
            "Collecting numcodecs>=0.10.0 (from zarr)\n",
            "  Downloading numcodecs-0.12.1-cp310-cp310-manylinux_2_17_x86_64.manylinux2014_x86_64.whl (7.7 MB)\n",
            "\u001b[2K     \u001b[90m━━━━━━━━━━━━━━━━━━━━━━━━━━━━━━━━━━━━━━━━\u001b[0m \u001b[32m7.7/7.7 MB\u001b[0m \u001b[31m20.9 MB/s\u001b[0m eta \u001b[36m0:00:00\u001b[0m\n",
            "\u001b[?25hRequirement already satisfied: scipy>=1.4.1 in /usr/local/lib/python3.10/dist-packages (from scikit-image) (1.11.3)\n",
            "Requirement already satisfied: networkx>=2.2 in /usr/local/lib/python3.10/dist-packages (from scikit-image) (3.2)\n",
            "Requirement already satisfied: pillow!=7.1.0,!=7.1.1,!=8.3.0,>=6.1.0 in /usr/local/lib/python3.10/dist-packages (from scikit-image) (9.4.0)\n",
            "Requirement already satisfied: imageio>=2.4.1 in /usr/local/lib/python3.10/dist-packages (from scikit-image) (2.31.6)\n",
            "Requirement already satisfied: PyWavelets>=1.1.1 in /usr/local/lib/python3.10/dist-packages (from scikit-image) (1.4.1)\n",
            "Requirement already satisfied: packaging>=20.0 in /usr/local/lib/python3.10/dist-packages (from scikit-image) (23.2)\n",
            "Requirement already satisfied: typing-extensions>=4.2.0 in /usr/local/lib/python3.10/dist-packages (from pydantic>=1.9.0->ome-types) (4.5.0)\n",
            "Building wheels for collected packages: asciitree\n",
            "  Building wheel for asciitree (setup.py) ... \u001b[?25l\u001b[?25hdone\n",
            "  Created wheel for asciitree: filename=asciitree-0.3.3-py3-none-any.whl size=5034 sha256=c5555e3bcaa0a5372f224ee9dfea1bfc326aa5cccebe18afec85a1d9381ba2b9\n",
            "  Stored in directory: /root/.cache/pip/wheels/7f/4e/be/1171b40f43b918087657ec57cf3b81fa1a2e027d8755baa184\n",
            "Successfully built asciitree\n",
            "Installing collected packages: asciitree, numcodecs, fasteners, zarr\n",
            "Successfully installed asciitree-0.3.3 fasteners-0.19 numcodecs-0.12.1 zarr-2.16.1\n"
          ]
        }
      ],
      "source": [
        "!pip install ome-types tifffile zarr pathlib numpy scikit-image tqdm"
      ]
    },
    {
      "cell_type": "markdown",
      "source": [
        "### Import dependencies"
      ],
      "metadata": {
        "id": "EqRhxA7A_44h"
      }
    },
    {
      "cell_type": "code",
      "source": [
        "from ome_types import from_tiff\n",
        "from tifffile import TiffWriter, imread\n",
        "import zarr\n",
        "from pathlib import Path\n",
        "import numpy as np\n",
        "from skimage.draw import polygon2mask\n",
        "import argparse\n",
        "import sys\n",
        "from tqdm import tqdm\n",
        "from google.colab import drive"
      ],
      "metadata": {
        "id": "gTbmdkpJ_Ga0"
      },
      "execution_count": 8,
      "outputs": []
    },
    {
      "cell_type": "markdown",
      "source": [
        "### Connect to Google Drive"
      ],
      "metadata": {
        "id": "PllnamXV_wMo"
      }
    },
    {
      "cell_type": "code",
      "source": [
        "drive.mount('/content/drive')"
      ],
      "metadata": {
        "colab": {
          "base_uri": "https://localhost:8080/",
          "height": 39
        },
        "id": "sy5Mxj9t-YUG",
        "outputId": "d62e96d9-baa8-4ff1-8352-3ef58627f0b0"
      },
      "execution_count": 9,
      "outputs": [
        {
          "output_type": "display_data",
          "data": {
            "text/plain": [
              "<IPython.core.display.HTML object>"
            ],
            "text/html": [
              "\n",
              "     <input type=\"file\" id=\"files-23b0a821-f542-4435-9fd6-cf45214b9378\" name=\"files[]\" multiple disabled\n",
              "        style=\"border:none\" />\n",
              "     <output id=\"result-23b0a821-f542-4435-9fd6-cf45214b9378\">\n",
              "      Upload widget is only available when the cell has been executed in the\n",
              "      current browser session. Please rerun this cell to enable.\n",
              "      </output>\n",
              "      <script>// Copyright 2017 Google LLC\n",
              "//\n",
              "// Licensed under the Apache License, Version 2.0 (the \"License\");\n",
              "// you may not use this file except in compliance with the License.\n",
              "// You may obtain a copy of the License at\n",
              "//\n",
              "//      http://www.apache.org/licenses/LICENSE-2.0\n",
              "//\n",
              "// Unless required by applicable law or agreed to in writing, software\n",
              "// distributed under the License is distributed on an \"AS IS\" BASIS,\n",
              "// WITHOUT WARRANTIES OR CONDITIONS OF ANY KIND, either express or implied.\n",
              "// See the License for the specific language governing permissions and\n",
              "// limitations under the License.\n",
              "\n",
              "/**\n",
              " * @fileoverview Helpers for google.colab Python module.\n",
              " */\n",
              "(function(scope) {\n",
              "function span(text, styleAttributes = {}) {\n",
              "  const element = document.createElement('span');\n",
              "  element.textContent = text;\n",
              "  for (const key of Object.keys(styleAttributes)) {\n",
              "    element.style[key] = styleAttributes[key];\n",
              "  }\n",
              "  return element;\n",
              "}\n",
              "\n",
              "// Max number of bytes which will be uploaded at a time.\n",
              "const MAX_PAYLOAD_SIZE = 100 * 1024;\n",
              "\n",
              "function _uploadFiles(inputId, outputId) {\n",
              "  const steps = uploadFilesStep(inputId, outputId);\n",
              "  const outputElement = document.getElementById(outputId);\n",
              "  // Cache steps on the outputElement to make it available for the next call\n",
              "  // to uploadFilesContinue from Python.\n",
              "  outputElement.steps = steps;\n",
              "\n",
              "  return _uploadFilesContinue(outputId);\n",
              "}\n",
              "\n",
              "// This is roughly an async generator (not supported in the browser yet),\n",
              "// where there are multiple asynchronous steps and the Python side is going\n",
              "// to poll for completion of each step.\n",
              "// This uses a Promise to block the python side on completion of each step,\n",
              "// then passes the result of the previous step as the input to the next step.\n",
              "function _uploadFilesContinue(outputId) {\n",
              "  const outputElement = document.getElementById(outputId);\n",
              "  const steps = outputElement.steps;\n",
              "\n",
              "  const next = steps.next(outputElement.lastPromiseValue);\n",
              "  return Promise.resolve(next.value.promise).then((value) => {\n",
              "    // Cache the last promise value to make it available to the next\n",
              "    // step of the generator.\n",
              "    outputElement.lastPromiseValue = value;\n",
              "    return next.value.response;\n",
              "  });\n",
              "}\n",
              "\n",
              "/**\n",
              " * Generator function which is called between each async step of the upload\n",
              " * process.\n",
              " * @param {string} inputId Element ID of the input file picker element.\n",
              " * @param {string} outputId Element ID of the output display.\n",
              " * @return {!Iterable<!Object>} Iterable of next steps.\n",
              " */\n",
              "function* uploadFilesStep(inputId, outputId) {\n",
              "  const inputElement = document.getElementById(inputId);\n",
              "  inputElement.disabled = false;\n",
              "\n",
              "  const outputElement = document.getElementById(outputId);\n",
              "  outputElement.innerHTML = '';\n",
              "\n",
              "  const pickedPromise = new Promise((resolve) => {\n",
              "    inputElement.addEventListener('change', (e) => {\n",
              "      resolve(e.target.files);\n",
              "    });\n",
              "  });\n",
              "\n",
              "  const cancel = document.createElement('button');\n",
              "  inputElement.parentElement.appendChild(cancel);\n",
              "  cancel.textContent = 'Cancel upload';\n",
              "  const cancelPromise = new Promise((resolve) => {\n",
              "    cancel.onclick = () => {\n",
              "      resolve(null);\n",
              "    };\n",
              "  });\n",
              "\n",
              "  // Wait for the user to pick the files.\n",
              "  const files = yield {\n",
              "    promise: Promise.race([pickedPromise, cancelPromise]),\n",
              "    response: {\n",
              "      action: 'starting',\n",
              "    }\n",
              "  };\n",
              "\n",
              "  cancel.remove();\n",
              "\n",
              "  // Disable the input element since further picks are not allowed.\n",
              "  inputElement.disabled = true;\n",
              "\n",
              "  if (!files) {\n",
              "    return {\n",
              "      response: {\n",
              "        action: 'complete',\n",
              "      }\n",
              "    };\n",
              "  }\n",
              "\n",
              "  for (const file of files) {\n",
              "    const li = document.createElement('li');\n",
              "    li.append(span(file.name, {fontWeight: 'bold'}));\n",
              "    li.append(span(\n",
              "        `(${file.type || 'n/a'}) - ${file.size} bytes, ` +\n",
              "        `last modified: ${\n",
              "            file.lastModifiedDate ? file.lastModifiedDate.toLocaleDateString() :\n",
              "                                    'n/a'} - `));\n",
              "    const percent = span('0% done');\n",
              "    li.appendChild(percent);\n",
              "\n",
              "    outputElement.appendChild(li);\n",
              "\n",
              "    const fileDataPromise = new Promise((resolve) => {\n",
              "      const reader = new FileReader();\n",
              "      reader.onload = (e) => {\n",
              "        resolve(e.target.result);\n",
              "      };\n",
              "      reader.readAsArrayBuffer(file);\n",
              "    });\n",
              "    // Wait for the data to be ready.\n",
              "    let fileData = yield {\n",
              "      promise: fileDataPromise,\n",
              "      response: {\n",
              "        action: 'continue',\n",
              "      }\n",
              "    };\n",
              "\n",
              "    // Use a chunked sending to avoid message size limits. See b/62115660.\n",
              "    let position = 0;\n",
              "    do {\n",
              "      const length = Math.min(fileData.byteLength - position, MAX_PAYLOAD_SIZE);\n",
              "      const chunk = new Uint8Array(fileData, position, length);\n",
              "      position += length;\n",
              "\n",
              "      const base64 = btoa(String.fromCharCode.apply(null, chunk));\n",
              "      yield {\n",
              "        response: {\n",
              "          action: 'append',\n",
              "          file: file.name,\n",
              "          data: base64,\n",
              "        },\n",
              "      };\n",
              "\n",
              "      let percentDone = fileData.byteLength === 0 ?\n",
              "          100 :\n",
              "          Math.round((position / fileData.byteLength) * 100);\n",
              "      percent.textContent = `${percentDone}% done`;\n",
              "\n",
              "    } while (position < fileData.byteLength);\n",
              "  }\n",
              "\n",
              "  // All done.\n",
              "  yield {\n",
              "    response: {\n",
              "      action: 'complete',\n",
              "    }\n",
              "  };\n",
              "}\n",
              "\n",
              "scope.google = scope.google || {};\n",
              "scope.google.colab = scope.google.colab || {};\n",
              "scope.google.colab._files = {\n",
              "  _uploadFiles,\n",
              "  _uploadFilesContinue,\n",
              "};\n",
              "})(self);\n",
              "</script> "
            ]
          },
          "metadata": {}
        }
      ]
    },
    {
      "cell_type": "markdown",
      "source": [
        "### Select file using Colab interface"
      ],
      "metadata": {
        "id": "3rmrDu15CnCC"
      }
    },
    {
      "cell_type": "code",
      "source": [
        "data_path = r''"
      ],
      "metadata": {
        "id": "iubo0MHBCnQt"
      },
      "execution_count": null,
      "outputs": []
    },
    {
      "cell_type": "markdown",
      "source": [
        "### Setup saving directories"
      ],
      "metadata": {
        "id": "kwAgvFKF_r6h"
      }
    },
    {
      "cell_type": "code",
      "source": [
        "save_path = data_path.parent / Path('Extracted_ROIs')\n",
        "save_path.mkdir(parents=True, exist_ok=True)\n",
        "ROI_maximal_save_dir = save_path / Path('ROI_maximal')\n",
        "ROI_maximal_save_dir.mkdir(parents=True, exist_ok=True)\n",
        "ROI_masks_save_dir = save_path / Path('binary_masks')\n",
        "ROI_masks_save_dir.mkdir(parents=True, exist_ok=True)\n",
        "ROI_masked_save_dir = save_path / Path('ROI_masked')\n",
        "ROI_masked_save_dir.mkdir(parents=True, exist_ok=True)"
      ],
      "metadata": {
        "id": "fWyCzAen-w1n"
      },
      "execution_count": null,
      "outputs": []
    },
    {
      "cell_type": "markdown",
      "source": [
        "### Extract and write ROIs"
      ],
      "metadata": {
        "id": "St-Buw7g_nIX"
      }
    },
    {
      "cell_type": "code",
      "source": [
        "resolution = 0\n",
        "scale = 1\n",
        "\n",
        "# load OME-XML and image data into memory\n",
        "ome_xml = from_tiff(data_path,validate=True)\n",
        "store = imread(data_path,aszarr=True)\n",
        "z = zarr.open(store,mode='r')\n",
        "data = z[resolution]\n",
        "\n",
        "# load XY pixel size\n",
        "pixel_size_x = float(np.round(ome_xml.images[0].pixels.physical_size_x,3)) * scale\n",
        "pixel_size_y = float(np.round(ome_xml.images[0].pixels.physical_size_y,3)) * scale\n",
        "\n",
        "# load channel names\n",
        "channel_names = []\n",
        "for ch_idx in range(0,len(ome_xml.images[0].pixels.channels)):\n",
        "    channel_names.append(ome_xml.images[0].pixels.channels[ch_idx].name)\n",
        "\n",
        "# loop over all ROIs\n",
        "for idx in tqdm(range(0,len(ome_xml.rois)),desc='ROI'):\n",
        "\n",
        "    # extract ROI xy location in overview image\n",
        "    x = int(ome_xml.rois[idx].union[2].x) // scale\n",
        "    y = int(ome_xml.rois[idx].union[2].y) // scale\n",
        "\n",
        "    # extract ROI maximal bounding box size\n",
        "    height = int(ome_xml.rois[idx].union[2].height) // scale\n",
        "    width = int(ome_xml.rois[idx].union[2].width) // scale\n",
        "\n",
        "    # create ROI name\n",
        "    ROI_idx = int(ome_xml.rois[idx].id.split(':')[1])\n",
        "    ROI_name = 'ROI-'+str(ROI_idx+1).zfill(3)+'_maximal'\n",
        "    ROI_save_path = ROI_maximal_save_dir / Path(ROI_name+'.ome.tif')\n",
        "\n",
        "    # extract ROI data from overview image\n",
        "    maximal_ROI_data = np.array(data[:,y:y+height,x:x+width])\n",
        "\n",
        "    # write ROI to OME-TIFF format\n",
        "    with TiffWriter(ROI_save_path,bigtiff=False) as tif:\n",
        "        metadata = {'Name' : ROI_name,\n",
        "                    'axes' : 'CYX',\n",
        "                    'PhysicalSizeX' : pixel_size_x,\n",
        "                    'PhysicalSizeXUnit': 'µm',\n",
        "                    'PhysicalSizeY' : pixel_size_y,\n",
        "                    'PhysicalSizeYUnit' : 'µm',\n",
        "                    'Channel': {'Name' : channel_names}\n",
        "                    }\n",
        "        tif.write(data=maximal_ROI_data,\n",
        "                  metadata=metadata,\n",
        "                  resolution=(1e4/pixel_size_x,1e4/pixel_size_y),\n",
        "                  resolutionunit='CENTIMETER',\n",
        "                  photometric='minisblack')\n",
        "\n",
        "    del ROI_name, ROI_save_path\n",
        "\n",
        "    # attempt to extract ROI mask as polygon\n",
        "    create_masked_tiff = True\n",
        "    try:\n",
        "        polygon_string = ome_xml.rois[idx].union[1].points\n",
        "    except:\n",
        "        create_masked_tiff = False\n",
        "\n",
        "    # if polygon is found, create masked ROI image\n",
        "    if create_masked_tiff:\n",
        "\n",
        "        # convert polygon from string to (x,y) points\n",
        "        polygon_pts = np.round(np.array(polygon_string.replace(' ',',').split(','),dtype=float).reshape(-1,2),0).astype(float)\n",
        "\n",
        "        # switch polygon to (y,x) order\n",
        "        polygon_pts[:,[1,0]] = polygon_pts[:,[0,1]]\n",
        "        polygon_pts = polygon_pts / scale\n",
        "\n",
        "        # translate polygon points from overview image to local ROI coordinates\n",
        "        polygon_pts[:,0] = polygon_pts[:,0] - y\n",
        "        polygon_pts[:,1] = polygon_pts[:,1] - x\n",
        "\n",
        "        # create mask from polygon points\n",
        "        mask = polygon2mask((height,width),polygon_pts).astype(int)\n",
        "\n",
        "        # apply mask to ROI\n",
        "        maximal_ROI_data[:,mask == 0] = 0\n",
        "\n",
        "        ROI_name = 'ROI-'+str(ROI_idx+1).zfill(3)+'_binarymask'\n",
        "        ROI_save_path = ROI_masks_save_dir / Path(ROI_name+'.ome.tif')\n",
        "\n",
        "        # write ROI to OME-TIFF format\n",
        "        with TiffWriter(ROI_save_path,bigtiff=False) as tif:\n",
        "            metadata = {'Name' : ROI_name,\n",
        "                        'axes' : 'YX',\n",
        "                        'PhysicalSizeX' : pixel_size_x,\n",
        "                        'PhysicalSizeXUnit': 'µm',\n",
        "                        'PhysicalSizeY' : pixel_size_y,\n",
        "                        'PhysicalSizeYUnit' : 'µm',\n",
        "                        }\n",
        "            tif.write(data=mask.astype(np.uint8),\n",
        "                    metadata=metadata,\n",
        "                    resolution=(1e4/pixel_size_x,1e4/pixel_size_y),\n",
        "                    resolutionunit='CENTIMETER',\n",
        "                    photometric='minisblack')\n",
        "\n",
        "        # create masked ROI name\n",
        "        ROI_name = 'ROI-'+str(ROI_idx+1).zfill(3)+'_masked'\n",
        "        ROI_save_path = ROI_masked_save_dir / Path(ROI_name+'.ome.tif')\n",
        "\n",
        "        # write ROI to OME-TIFF format\n",
        "        with TiffWriter(ROI_save_path,bigtiff=False) as tif:\n",
        "            metadata = {'Name' : ROI_name,\n",
        "                        'axes' : 'CYX',\n",
        "                        'PhysicalSizeX' : pixel_size_x,\n",
        "                        'PhysicalSizeXUnit': 'µm',\n",
        "                        'PhysicalSizeY' : pixel_size_y,\n",
        "                        'PhysicalSizeYUnit' : 'µm',\n",
        "                        'Channel': {'Name' : channel_names}\n",
        "                        }\n",
        "            tif.write(data=maximal_ROI_data.astype(np.uint16),\n",
        "                    metadata=metadata,\n",
        "                    resolution=(1e4/pixel_size_x,1e4/pixel_size_y),\n",
        "                    resolutionunit='CENTIMETER',\n",
        "                    photometric='minisblack')\n",
        "        del mask\n",
        "\n",
        "    # if no mask, assume full ROI was used and rewrite\n",
        "    else:\n",
        "        # create masked ROI name\n",
        "        ROI_name = 'ROI-'+str(ROI_idx+1).zfill(3)+'_masked'\n",
        "        ROI_save_path = ROI_masked_save_dir / Path(ROI_name+'.ome.tif')\n",
        "\n",
        "        # write ROI to OME-TIFF format\n",
        "        with TiffWriter(ROI_save_path,bigtiff=False) as tif:\n",
        "            metadata = {'Name' : ROI_name,\n",
        "                        'axes' : 'CYX',\n",
        "                        'PhysicalSizeX' : pixel_size_x,\n",
        "                        'PhysicalSizeXUnit': 'µm',\n",
        "                        'PhysicalSizeY' : pixel_size_y,\n",
        "                        'PhysicalSizeYUnit' : 'µm',\n",
        "                        'Channel': {'Name' : channel_names}\n",
        "                        }\n",
        "            tif.write(data=maximal_ROI_data,\n",
        "                    metadata=metadata,\n",
        "                    resolution=(1e4/pixel_size_x,1e4/pixel_size_y),\n",
        "                    resolutionunit='CENTIMETER',\n",
        "                    photometric='minisblack')\n",
        "    del maximal_ROI_data\n",
        "\n",
        "drive.flush_and_unmount()\n",
        "print('All changes made in this colab session should now be visible in Drive.')"
      ],
      "metadata": {
        "id": "kNg6INGX_d0E"
      },
      "execution_count": null,
      "outputs": []
    }
  ]
}